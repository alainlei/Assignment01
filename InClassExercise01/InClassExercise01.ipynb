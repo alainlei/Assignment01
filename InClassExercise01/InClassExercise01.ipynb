{
 "cells": [
  {
   "cell_type": "markdown",
   "metadata": {},
   "source": [
    "# Exercise 1\n",
    "* Create a program that asks the user to enter their name and their age. Print out a message addressed to them that tells them the year that they will turn 100 years old.\n",
    "\n",
    "* Extras:\n",
    "    * Add on to the previous program by asking the user for another number and printing out that many copies of the previous message. (Hint: order of operations exists in Python)\n",
    "    * Print out that many copies of the previous message on separate lines. (Hint: the string \"\\n is the same as pressing the ENTER button)"
   ]
  },
  {
   "cell_type": "code",
   "execution_count": 31,
   "metadata": {},
   "outputs": [
    {
     "name": "stdin",
     "output_type": "stream",
     "text": [
      "Enter name:  a\n",
      "Enter age:  36\n",
      "Enter repeat times:  10\n"
     ]
    },
    {
     "name": "stdout",
     "output_type": "stream",
     "text": [
      "a, you will be 100 years old on 2083\n",
      "\n",
      "a, you will be 100 years old on 2083\n",
      "\n",
      "a, you will be 100 years old on 2083\n",
      "\n",
      "a, you will be 100 years old on 2083\n",
      "\n",
      "a, you will be 100 years old on 2083\n",
      "\n",
      "a, you will be 100 years old on 2083\n",
      "\n",
      "a, you will be 100 years old on 2083\n",
      "\n",
      "a, you will be 100 years old on 2083\n",
      "\n",
      "a, you will be 100 years old on 2083\n",
      "\n",
      "a, you will be 100 years old on 2083\n",
      "\n"
     ]
    }
   ],
   "source": [
    "# fill your answer here\n",
    "# use \"input\" to get data from an interactive box, e.g., \n",
    "from datetime import datetime;\n",
    "\n",
    "name = input(\"Enter name: \");\n",
    "\n",
    "age = input(\"Enter age: \");\n",
    "\n",
    "while (age.isdigit() == 0):\n",
    "    age = input(\"Please enter a positive integer for age: \");\n",
    "\n",
    "loopCount = input(\"Enter repeat times: \");  \n",
    "\n",
    "while (loopCount.isdigit() == 0):\n",
    "    loopCount = input(\"Please enter a positive integer for repeat times: \");  \n",
    "    \n",
    "currentYear = datetime.now().year;\n",
    "\n",
    "for x in range(int(loopCount)):\n",
    "    print(name + \", you will be 100 years old on \" + str(currentYear + 100 - int(age)) + \".\\n\");"
   ]
  },
  {
   "cell_type": "markdown",
   "metadata": {},
   "source": [
    "# Exercise 2\n",
    "* Ask the user for a number. Depending on whether the number is even or odd, print out an appropriate message to the user. Hint: how does an even / odd number react differently when divided by 2?\n",
    "\n",
    "* Extras:\n",
    "    * If the number is a multiple of 4, print out a different message.\n",
    "    * Ask the user for two numbers: one number to check (call it num) and one number to divide by (check). If check divides evenly into num, tell that to the user. If not, print a different appropriate message."
   ]
  },
  {
   "cell_type": "code",
   "execution_count": 43,
   "metadata": {},
   "outputs": [
    {
     "name": "stdin",
     "output_type": "stream",
     "text": [
      "Please input an integer:  -8\n",
      "Please input an integer as the divider:  5\n"
     ]
    },
    {
     "name": "stdout",
     "output_type": "stream",
     "text": [
      "-8 is an even number.\n",
      "-8 is a multiple of 4.\n",
      "-8 is not a multiple of 5.\n"
     ]
    }
   ],
   "source": [
    "while True:\n",
    "    try:\n",
    "        num = int(input(\"Please input an integer: \"));\n",
    "    except ValueError:\n",
    "        continue;\n",
    "    else:\n",
    "        break;\n",
    "\n",
    "while True:\n",
    "    try:\n",
    "        div = int(input(\"Please input an integer as the divider: \"));\n",
    "    except ValueError:\n",
    "        continue;\n",
    "    else:\n",
    "        break;\n",
    "    \n",
    "if (int(num) % 2 ==0):\n",
    "    print(str(num) + \" is an even number.\");\n",
    "else:\n",
    "    print(str(num) + \" is an odd number.\");\n",
    "    \n",
    "if (int(num) % 4 ==0):\n",
    "    print(str(num) + \" is a multiple of 4.\");\n",
    "else:\n",
    "    print(str(num) + \" is not a multiple of 4.\");\n",
    "\n",
    "if (int(num) % int(div) ==0):\n",
    "    print(str(num) + \" is a multiple of \" + str(div) + \".\");\n",
    "else:\n",
    "    print(str(num) + \" is not a multiple of \" + str(div) + \".\");\n"
   ]
  },
  {
   "cell_type": "markdown",
   "metadata": {},
   "source": [
    "# Exercise 3\n",
    "* Take a list, say for example this one:\n",
    "    * a = [1, 1, 2, 3, 5, 8, 13, 21, 34, 55, 89]\n",
    "* and write a program that prints out all the elements of the list that are less than 5.\n",
    "\n",
    "* Extras:\n",
    "    * Instead of printing the elements one by one, make a new list that has all the elements less than 5 from this list in it and print out this new list.\n",
    "    * Write this in one line of Python. (search \"filter\" from Google)\n",
    "    * Ask the user for a number and return a list that contains only elements from the original list a that are smaller than that number given by the user."
   ]
  },
  {
   "cell_type": "code",
   "execution_count": 41,
   "metadata": {},
   "outputs": [
    {
     "name": "stdout",
     "output_type": "stream",
     "text": [
      "1\n",
      "1\n",
      "2\n",
      "3\n"
     ]
    }
   ],
   "source": [
    "# multi-line solution\n",
    "a = [1, 1, 2, 3, 5, 8, 13, 21, 34, 55, 89];\n",
    "\n",
    "for x in a:\n",
    "    if x < 5:\n",
    "        print(x);"
   ]
  },
  {
   "cell_type": "code",
   "execution_count": 58,
   "metadata": {},
   "outputs": [
    {
     "name": "stdout",
     "output_type": "stream",
     "text": [
      "[1, 1, 2, 3]\n"
     ]
    },
    {
     "name": "stdin",
     "output_type": "stream",
     "text": [
      "Please input a number:  4\n"
     ]
    },
    {
     "name": "stdout",
     "output_type": "stream",
     "text": [
      "[1, 1, 2, 3]\n"
     ]
    }
   ],
   "source": [
    "# single-line solution\n",
    "a = [1, 1, 2, 3, 5, 8, 13, 21, 34, 55, 89];\n",
    "print(list(filter(lambda x: (x < 5), a)));\n",
    "\n",
    "while True:\n",
    "    try:\n",
    "        num_input = input(\"Please input a number: \");\n",
    "        if \".\" in num_input:\n",
    "            num = float(num_input);\n",
    "        else:\n",
    "            num = int(num_input);\n",
    "    except ValueError:\n",
    "        continue;\n",
    "    else:\n",
    "        break;\n",
    "\n",
    "print(list(filter(lambda x: (x < float(num)), a)));"
   ]
  },
  {
   "cell_type": "markdown",
   "metadata": {},
   "source": [
    "# Exercise 4\n",
    "* Create a program that asks the user for a number and then prints out a list of all the divisors of that number. (If you don’t know what a divisor is, it is a number that divides evenly into another number. For example, 13 is a divisor of 26 because 26 / 13 has no remainder.)"
   ]
  },
  {
   "cell_type": "code",
   "execution_count": 68,
   "metadata": {},
   "outputs": [
    {
     "name": "stdin",
     "output_type": "stream",
     "text": [
      "Please input an integer which is greater than 1:  7\n"
     ]
    },
    {
     "name": "stdout",
     "output_type": "stream",
     "text": [
      "7 is a prime number!\n"
     ]
    }
   ],
   "source": [
    "# you may need to use range and for loop\n",
    "while True:\n",
    "    try:\n",
    "        num = int(input(\"Please input an integer which is greater than 1: \"));\n",
    "    except ValueError:\n",
    "        continue;\n",
    "    else:\n",
    "        if abs(num) <= 1:\n",
    "            continue;\n",
    "        else:\n",
    "            break;\n",
    "\n",
    "x = range(2, abs(num));\n",
    "l = [];\n",
    "\n",
    "for i in x:\n",
    "    if num % i == 0:\n",
    "        l.append(i);\n",
    "\n",
    "if len(l) > 0:        \n",
    "    print(\"Divisors of \" + str(abs(num)) + \": \" + str(l));\n",
    "else:\n",
    "    print(str(num) + \" is a prime number!\");"
   ]
  },
  {
   "cell_type": "markdown",
   "metadata": {},
   "source": [
    "# Exercise 5\n",
    "* Take two lists, say for example these two:\n",
    "    * a = [1, 1, 2, 3, 5, 8, 13, 21, 34, 55, 89]\n",
    "    * b = [1, 2, 3, 4, 5, 6, 7, 8, 9, 10, 11, 12, 13]\n",
    "* and write a program that returns a list that contains only the elements that are common between the lists (without duplicates). Make sure your program works on two lists of different sizes.\n",
    "\n",
    "* Extras:\n",
    "    * Randomly generate two lists to test this (search \"random_list\" from Google)\n",
    "    * Write this in one line of Python (search \"intersection\" from Google)"
   ]
  },
  {
   "cell_type": "code",
   "execution_count": 61,
   "metadata": {},
   "outputs": [
    {
     "name": "stdout",
     "output_type": "stream",
     "text": [
      "[1, 2, 3, 5, 8, 13]\n"
     ]
    }
   ],
   "source": [
    "# multi-line solution\n",
    "a = [1, 1, 2, 3, 5, 8, 13, 21, 34, 55, 89];\n",
    "b = [1, 2, 3, 4, 5, 6, 7, 8, 9, 10, 11, 12, 13];\n",
    "\n",
    "result = [];\n",
    "\n",
    "for x in a:\n",
    "    for y in b:\n",
    "        if x == y:\n",
    "            if x not in result:\n",
    "                result.append(x);\n",
    "\n",
    "print(\"Common elements: \" + str(result));"
   ]
  },
  {
   "cell_type": "code",
   "execution_count": 79,
   "metadata": {},
   "outputs": [
    {
     "name": "stdout",
     "output_type": "stream",
     "text": [
      "List A: [8, 13, 22, 24, 33, 34, 35, 42, 44, 46, 49, 53, 55, 58, 59, 62, 65, 71, 73, 90, 92]\n",
      "List B: [7, 26, 32, 43, 49, 57, 60, 62, 65, 85, 99]\n",
      "Common elements: [49, 62, 65]\n"
     ]
    }
   ],
   "source": [
    "# single-line solution\n",
    "import random\n",
    "\n",
    "a = random.sample(range(100), random.randint(1, 21));\n",
    "b = random.sample(range(100), random.randint(1, 21));\n",
    "\n",
    "a.sort();\n",
    "b.sort();\n",
    "\n",
    "result = list(set(a) & set(b));\n",
    "result.sort();\n",
    "\n",
    "print(\"List A: \" + str(a));\n",
    "print(\"List B: \" + str(b));\n",
    "\n",
    "if len(result) > 0:\n",
    "    print(\"Common elements: \" + str(result));\n",
    "else:\n",
    "    print(\"There is no common element.\");"
   ]
  },
  {
   "cell_type": "markdown",
   "metadata": {},
   "source": [
    "# Exercise 6\n",
    "* Ask the user for a string and print out whether this string is a palindrome or not. \n",
    "    * A palindrome is a string that reads the same forwards and backwards."
   ]
  },
  {
   "cell_type": "code",
   "execution_count": 86,
   "metadata": {},
   "outputs": [
    {
     "name": "stdin",
     "output_type": "stream",
     "text": [
      "Please input a string (at least 2 characters long):  abba\n"
     ]
    },
    {
     "name": "stdout",
     "output_type": "stream",
     "text": [
      "\"abba\" is a palindrome!\n"
     ]
    }
   ],
   "source": [
    "while True:\n",
    "    st = input(\"Please input a string (at least 2 characters long): \");\n",
    "    \n",
    "    if len(st) <= 1:\n",
    "        continue;\n",
    "    else:\n",
    "        break;\n",
    "\n",
    "if st == st[::-1]:\n",
    "    print(\"\\\"\" + st + \"\\\" is a palindrome!\");\n",
    "else:\n",
    "    print(\"\\\"\" + st + \"\\\" is not a palindrome!\");"
   ]
  },
  {
   "cell_type": "code",
   "execution_count": null,
   "metadata": {},
   "outputs": [],
   "source": []
  }
 ],
 "metadata": {
  "kernelspec": {
   "display_name": "Python 3",
   "language": "python",
   "name": "python3"
  },
  "language_info": {
   "codemirror_mode": {
    "name": "ipython",
    "version": 3
   },
   "file_extension": ".py",
   "mimetype": "text/x-python",
   "name": "python",
   "nbconvert_exporter": "python",
   "pygments_lexer": "ipython3",
   "version": "3.7.3"
  }
 },
 "nbformat": 4,
 "nbformat_minor": 4
}
